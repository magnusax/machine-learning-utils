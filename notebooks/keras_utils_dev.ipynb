{
 "cells": [
  {
   "cell_type": "code",
   "execution_count": 58,
   "metadata": {},
   "outputs": [
    {
     "name": "stdout",
     "output_type": "stream",
     "text": [
      "Keras version: 2.1.5\n"
     ]
    }
   ],
   "source": [
    "import pandas as pd\n",
    "import numpy as np\n",
    "import os\n",
    "import sys\n",
    "import time\n",
    "\n",
    "import matplotlib.pyplot as plt\n",
    "%matplotlib inline\n",
    "\n",
    "# Keras imports\n",
    "import keras\n",
    "print(\"Keras version: %s\" % keras.__version__)\n",
    "from keras.datasets import mnist\n",
    "from keras.layers import Dense, BatchNormalization, Dropout\n",
    "from keras.models import Sequential"
   ]
  },
  {
   "cell_type": "markdown",
   "metadata": {},
   "source": [
    "Load some toy data to work with"
   ]
  },
  {
   "cell_type": "code",
   "execution_count": 117,
   "metadata": {
    "collapsed": true
   },
   "outputs": [],
   "source": [
    "(x_train, y_train), (x_test, y_test) = mnist.load_data()"
   ]
  },
  {
   "cell_type": "code",
   "execution_count": 118,
   "metadata": {},
   "outputs": [
    {
     "data": {
      "text/plain": [
       "((60000, 28, 28), (10000, 28, 28))"
      ]
     },
     "execution_count": 118,
     "metadata": {},
     "output_type": "execute_result"
    }
   ],
   "source": [
    "x_train.shape, x_test.shape"
   ]
  },
  {
   "cell_type": "code",
   "execution_count": 119,
   "metadata": {
    "collapsed": true
   },
   "outputs": [],
   "source": [
    "x_train = x_train.reshape((60000, 28 * 28))\n",
    "x_train = x_train.astype('float32') / 255\n",
    "\n",
    "x_test = x_test.reshape((10000, 28 * 28))\n",
    "x_test = x_test.astype('float32') / 255"
   ]
  },
  {
   "cell_type": "code",
   "execution_count": 120,
   "metadata": {},
   "outputs": [
    {
     "data": {
      "text/plain": [
       "((60000, 784), (10000, 784))"
      ]
     },
     "execution_count": 120,
     "metadata": {},
     "output_type": "execute_result"
    }
   ],
   "source": [
    "x_train.shape, x_test.shape"
   ]
  },
  {
   "cell_type": "code",
   "execution_count": 121,
   "metadata": {},
   "outputs": [
    {
     "data": {
      "text/plain": [
       "((60000, 10), (10000, 10))"
      ]
     },
     "execution_count": 121,
     "metadata": {},
     "output_type": "execute_result"
    }
   ],
   "source": [
    "from keras.utils import to_categorical\n",
    "y_train = to_categorical(y_train)\n",
    "y_test = to_categorical(y_test)\n",
    "y_train.shape, y_test.shape"
   ]
  },
  {
   "cell_type": "markdown",
   "metadata": {},
   "source": [
    "Let us build a simple deep neural network in order to establish a baseline. \n",
    "\n",
    "The best result I have gotten using a classical model (random ensembling of a tuned `GradientBoostingClassifier`) is $98.7\\%$. Let's try to beat that!"
   ]
  },
  {
   "cell_type": "code",
   "execution_count": 170,
   "metadata": {
    "collapsed": true
   },
   "outputs": [],
   "source": [
    "del model\n",
    "\n",
    "model = Sequential([\n",
    "    Dense(512, activation='relu', input_shape=(int(28*28),)),\n",
    "    Dropout(0.5),\n",
    "    Dense(256, activation='relu'),\n",
    "    BatchNormalization(),\n",
    "    Dense(128, activation='relu'),\n",
    "    Dense(10, activation='softmax')\n",
    "])\n",
    "\n",
    "from keras.optimizers import RMSprop\n",
    "opt = RMSprop(lr=0.01)\n",
    "loss='categorical_crossentropy'\n",
    "metrics = ['accuracy']\n",
    "\n",
    "model.compile(optimizer=opt, loss=loss, metrics=metrics)"
   ]
  },
  {
   "cell_type": "markdown",
   "metadata": {},
   "source": [
    "Train the model"
   ]
  },
  {
   "cell_type": "code",
   "execution_count": 171,
   "metadata": {
    "collapsed": true
   },
   "outputs": [],
   "source": [
    "n_epochs = 50"
   ]
  },
  {
   "cell_type": "code",
   "execution_count": 172,
   "metadata": {
    "collapsed": true
   },
   "outputs": [],
   "source": [
    "model.optimizer.lr = 1e-2"
   ]
  },
  {
   "cell_type": "code",
   "execution_count": 173,
   "metadata": {
    "scrolled": true
   },
   "outputs": [
    {
     "name": "stdout",
     "output_type": "stream",
     "text": [
      "Train on 48000 samples, validate on 12000 samples\n",
      "Epoch 1/50\n",
      "48000/48000 [==============================] - 4s 91us/step - loss: 0.4285 - acc: 0.8716 - val_loss: 0.2030 - val_acc: 0.9460\n",
      "Epoch 2/50\n",
      "48000/48000 [==============================] - 4s 80us/step - loss: 0.2286 - acc: 0.9350 - val_loss: 0.1352 - val_acc: 0.9623\n",
      "Epoch 3/50\n",
      "48000/48000 [==============================] - 4s 81us/step - loss: 0.1831 - acc: 0.9474 - val_loss: 0.1265 - val_acc: 0.9654\n",
      "Epoch 4/50\n",
      "48000/48000 [==============================] - 4s 81us/step - loss: 0.1611 - acc: 0.9552 - val_loss: 0.1555 - val_acc: 0.9560\n",
      "Epoch 5/50\n",
      "48000/48000 [==============================] - 4s 81us/step - loss: 0.1446 - acc: 0.9592 - val_loss: 0.1101 - val_acc: 0.9716\n",
      "Epoch 6/50\n",
      "48000/48000 [==============================] - 4s 81us/step - loss: 0.1366 - acc: 0.9616 - val_loss: 0.1190 - val_acc: 0.9689\n",
      "Epoch 7/50\n",
      "48000/48000 [==============================] - 4s 81us/step - loss: 0.1290 - acc: 0.9647 - val_loss: 0.1055 - val_acc: 0.9733\n",
      "Epoch 8/50\n",
      "48000/48000 [==============================] - 4s 82us/step - loss: 0.1245 - acc: 0.9657 - val_loss: 0.0998 - val_acc: 0.9742\n",
      "Epoch 9/50\n",
      "48000/48000 [==============================] - 4s 82us/step - loss: 0.1170 - acc: 0.9681 - val_loss: 0.1049 - val_acc: 0.9739\n",
      "Epoch 10/50\n",
      "48000/48000 [==============================] - 4s 81us/step - loss: 0.1183 - acc: 0.9680 - val_loss: 0.1023 - val_acc: 0.9742\n",
      "Epoch 11/50\n",
      "48000/48000 [==============================] - 4s 81us/step - loss: 0.1141 - acc: 0.9694 - val_loss: 0.0964 - val_acc: 0.9776\n",
      "Epoch 12/50\n",
      "48000/48000 [==============================] - 4s 82us/step - loss: 0.1119 - acc: 0.9703 - val_loss: 0.1015 - val_acc: 0.9753\n",
      "Epoch 13/50\n",
      "48000/48000 [==============================] - 5s 98us/step - loss: 0.1074 - acc: 0.9723 - val_loss: 0.0987 - val_acc: 0.9768\n",
      "Epoch 14/50\n",
      "48000/48000 [==============================] - 6s 117us/step - loss: 0.1114 - acc: 0.9710 - val_loss: 0.1325 - val_acc: 0.9737\n",
      "Epoch 15/50\n",
      "48000/48000 [==============================] - 6s 130us/step - loss: 0.1040 - acc: 0.9718 - val_loss: 0.1165 - val_acc: 0.9763\n",
      "Epoch 16/50\n",
      "48000/48000 [==============================] - 5s 101us/step - loss: 0.1033 - acc: 0.9730 - val_loss: 0.0985 - val_acc: 0.9778\n",
      "Epoch 17/50\n",
      "48000/48000 [==============================] - 5s 97us/step - loss: 0.1059 - acc: 0.9727 - val_loss: 0.1011 - val_acc: 0.9770\n",
      "Epoch 18/50\n",
      "48000/48000 [==============================] - 5s 104us/step - loss: 0.1019 - acc: 0.9739 - val_loss: 0.1158 - val_acc: 0.9755\n",
      "Epoch 19/50\n",
      "48000/48000 [==============================] - 4s 88us/step - loss: 0.1012 - acc: 0.9745 - val_loss: 0.0974 - val_acc: 0.9787\n",
      "Epoch 20/50\n",
      "48000/48000 [==============================] - 4s 93us/step - loss: 0.1013 - acc: 0.9749 - val_loss: 0.0995 - val_acc: 0.9790\n",
      "Epoch 21/50\n",
      "48000/48000 [==============================] - 4s 90us/step - loss: 0.1034 - acc: 0.9745 - val_loss: 0.0986 - val_acc: 0.9776\n",
      "Epoch 22/50\n",
      "48000/48000 [==============================] - 4s 88us/step - loss: 0.0978 - acc: 0.9755 - val_loss: 0.0971 - val_acc: 0.9779\n",
      "Epoch 23/50\n",
      "48000/48000 [==============================] - 4s 86us/step - loss: 0.0989 - acc: 0.9755 - val_loss: 0.1113 - val_acc: 0.9757\n",
      "Epoch 24/50\n",
      "48000/48000 [==============================] - 4s 86us/step - loss: 0.0966 - acc: 0.9760 - val_loss: 0.1237 - val_acc: 0.9774\n",
      "Epoch 25/50\n",
      "48000/48000 [==============================] - 4s 90us/step - loss: 0.0976 - acc: 0.9760 - val_loss: 0.1029 - val_acc: 0.9774\n",
      "Epoch 26/50\n",
      "48000/48000 [==============================] - 4s 87us/step - loss: 0.0939 - acc: 0.9764 - val_loss: 0.1052 - val_acc: 0.9784\n",
      "Epoch 27/50\n",
      "48000/48000 [==============================] - 4s 91us/step - loss: 0.0926 - acc: 0.9782 - val_loss: 0.1120 - val_acc: 0.9782\n",
      "Epoch 28/50\n",
      "48000/48000 [==============================] - 5s 96us/step - loss: 0.0888 - acc: 0.9780 - val_loss: 0.1192 - val_acc: 0.9761\n",
      "Epoch 29/50\n",
      "48000/48000 [==============================] - 4s 84us/step - loss: 0.0918 - acc: 0.9781 - val_loss: 0.1151 - val_acc: 0.9787\n",
      "Epoch 30/50\n",
      "48000/48000 [==============================] - 4s 92us/step - loss: 0.0907 - acc: 0.9782 - val_loss: 0.1081 - val_acc: 0.9772\n",
      "Epoch 31/50\n",
      "48000/48000 [==============================] - 4s 86us/step - loss: 0.0955 - acc: 0.9767 - val_loss: 0.1070 - val_acc: 0.9780\n",
      "Epoch 32/50\n",
      "48000/48000 [==============================] - 4s 88us/step - loss: 0.0890 - acc: 0.9792 - val_loss: 0.1129 - val_acc: 0.9798\n",
      "Epoch 33/50\n",
      "48000/48000 [==============================] - 4s 83us/step - loss: 0.0880 - acc: 0.9797 - val_loss: 0.1185 - val_acc: 0.9796\n",
      "Epoch 34/50\n",
      "48000/48000 [==============================] - 4s 88us/step - loss: 0.0860 - acc: 0.9798 - val_loss: 0.1182 - val_acc: 0.9798\n",
      "Epoch 35/50\n",
      "48000/48000 [==============================] - 4s 88us/step - loss: 0.0910 - acc: 0.9790 - val_loss: 0.1078 - val_acc: 0.9780\n",
      "Epoch 36/50\n",
      "48000/48000 [==============================] - 4s 88us/step - loss: 0.0893 - acc: 0.9800 - val_loss: 0.1385 - val_acc: 0.9762\n",
      "Epoch 37/50\n",
      "48000/48000 [==============================] - 5s 105us/step - loss: 0.0908 - acc: 0.9791 - val_loss: 0.1044 - val_acc: 0.9782\n",
      "Epoch 38/50\n",
      "48000/48000 [==============================] - 5s 103us/step - loss: 0.0874 - acc: 0.9795 - val_loss: 0.1007 - val_acc: 0.9795\n",
      "Epoch 39/50\n",
      "48000/48000 [==============================] - 5s 101us/step - loss: 0.0890 - acc: 0.9800 - val_loss: 0.1041 - val_acc: 0.9777\n",
      "Epoch 40/50\n",
      "48000/48000 [==============================] - 4s 94us/step - loss: 0.0834 - acc: 0.9803 - val_loss: 0.1201 - val_acc: 0.9789\n",
      "Epoch 41/50\n",
      "48000/48000 [==============================] - 4s 88us/step - loss: 0.0834 - acc: 0.9814 - val_loss: 0.1169 - val_acc: 0.9794\n",
      "Epoch 42/50\n",
      "48000/48000 [==============================] - 4s 86us/step - loss: 0.0818 - acc: 0.9814 - val_loss: 0.1226 - val_acc: 0.9786\n",
      "Epoch 43/50\n",
      "48000/48000 [==============================] - 4s 83us/step - loss: 0.0920 - acc: 0.9810 - val_loss: 0.1086 - val_acc: 0.9787\n",
      "Epoch 44/50\n",
      "48000/48000 [==============================] - 4s 84us/step - loss: 0.0906 - acc: 0.9795 - val_loss: 0.1035 - val_acc: 0.9814\n",
      "Epoch 45/50\n",
      "48000/48000 [==============================] - 4s 83us/step - loss: 0.0843 - acc: 0.9801 - val_loss: 0.1033 - val_acc: 0.9810\n",
      "Epoch 46/50\n",
      "48000/48000 [==============================] - 4s 84us/step - loss: 0.0872 - acc: 0.9804 - val_loss: 0.1099 - val_acc: 0.9800\n",
      "Epoch 47/50\n",
      "48000/48000 [==============================] - 4s 84us/step - loss: 0.0833 - acc: 0.9812 - val_loss: 0.1263 - val_acc: 0.9780\n",
      "Epoch 48/50\n",
      "48000/48000 [==============================] - 4s 89us/step - loss: 0.0872 - acc: 0.9811 - val_loss: 0.1197 - val_acc: 0.9757\n",
      "Epoch 49/50\n",
      "48000/48000 [==============================] - 4s 86us/step - loss: 0.0899 - acc: 0.9808 - val_loss: 0.1085 - val_acc: 0.9794\n",
      "Epoch 50/50\n",
      "48000/48000 [==============================] - 4s 86us/step - loss: 0.0876 - acc: 0.9817 - val_loss: 0.1277 - val_acc: 0.9806\n"
     ]
    }
   ],
   "source": [
    "history = model.fit(x_train, y_train, epochs=n_epochs, verbose=1, batch_size=128, validation_split=0.2)"
   ]
  },
  {
   "cell_type": "code",
   "execution_count": 174,
   "metadata": {
    "collapsed": true
   },
   "outputs": [],
   "source": [
    "epochs = range(1, n_epochs+1)\n",
    "train_accuracy = history.history['acc']\n",
    "val_accuracy = history.history['val_acc']"
   ]
  },
  {
   "cell_type": "code",
   "execution_count": 175,
   "metadata": {},
   "outputs": [
    {
     "data": {
      "image/png": "[encoded data removed]",
      "text/plain": [
       "<matplotlib.figure.Figure at 0x4fa767f0>"
      ]
     },
     "metadata": {},
     "output_type": "display_data"
    }
   ],
   "source": [
    "plt.figure(figsize=(6,3))\n",
    "# b+ is for \"blue cross\"\n",
    "plt.plot(epochs, train_accuracy, 'b-', label='Training')\n",
    "# \"bo\" is for \"blue dot\"\n",
    "plt.plot(epochs, val_accuracy, 'b--', label='Validation')\n",
    "plt.xlabel('Epochs')\n",
    "plt.ylabel('Accuracy')\n",
    "plt.legend()\n",
    "plt.show()"
   ]
  },
  {
   "cell_type": "code",
   "execution_count": 176,
   "metadata": {},
   "outputs": [
    {
     "name": "stdout",
     "output_type": "stream",
     "text": [
      "10000/10000 [==============================] - 1s 50us/step\n"
     ]
    },
    {
     "data": {
      "text/plain": [
       "[0.11428790342416423, 0.98129999999999995]"
      ]
     },
     "execution_count": 176,
     "metadata": {},
     "output_type": "execute_result"
    }
   ],
   "source": [
    "model.evaluate(x_test, y_test)"
   ]
  },
  {
   "cell_type": "markdown",
   "metadata": {},
   "source": [
    "# Convolutional neural network implementation"
   ]
  },
  {
   "cell_type": "code",
   "execution_count": 189,
   "metadata": {
    "collapsed": true
   },
   "outputs": [],
   "source": [
    "(x_train, y_train), (x_test, y_test) = mnist.load_data()\n",
    "\n",
    "x_train = x_train.reshape((60000, 28, 28, 1))\n",
    "x_train = x_train.astype('float32') / 255\n",
    "\n",
    "x_test = x_test.reshape((10000, 28, 28, 1))\n",
    "x_test = x_test.astype('float32') / 255\n",
    "\n",
    "y_train = to_categorical(y_train)\n",
    "y_test = to_categorical(y_test)"
   ]
  },
  {
   "cell_type": "code",
   "execution_count": 190,
   "metadata": {
    "collapsed": true
   },
   "outputs": [],
   "source": [
    "from keras.layers import Conv2D, MaxPooling2D, Flatten"
   ]
  },
  {
   "cell_type": "code",
   "execution_count": 201,
   "metadata": {
    "collapsed": true
   },
   "outputs": [],
   "source": [
    "Conv2D?"
   ]
  },
  {
   "cell_type": "code",
   "execution_count": 196,
   "metadata": {
    "collapsed": true
   },
   "outputs": [],
   "source": [
    "cnn = Sequential()\n",
    "cnn.add(Conv2D(filters=32, kernel_size=(3, 3), activation='relu', input_shape=(28, 28, 1)))\n",
    "cnn.add(MaxPooling2D((2, 2)))\n",
    "cnn.add(Conv2D(64, (3, 3), activation='relu'))\n",
    "cnn.add(MaxPooling2D((2, 2)))\n",
    "cnn.add(Conv2D(64, (3, 3), activation='relu'))\n",
    "cnn.add(Flatten())\n",
    "cnn.add(Dense(64, activation='relu'))\n",
    "cnn.add(Dense(10, activation='softmax'))"
   ]
  },
  {
   "cell_type": "code",
   "execution_count": 197,
   "metadata": {},
   "outputs": [
    {
     "name": "stdout",
     "output_type": "stream",
     "text": [
      "_________________________________________________________________\n",
      "Layer (type)                 Output Shape              Param #   \n",
      "=================================================================\n",
      "conv2d_16 (Conv2D)           (None, 26, 26, 32)        320       \n",
      "_________________________________________________________________\n",
      "max_pooling2d_11 (MaxPooling (None, 13, 13, 32)        0         \n",
      "_________________________________________________________________\n",
      "conv2d_17 (Conv2D)           (None, 11, 11, 64)        18496     \n",
      "_________________________________________________________________\n",
      "max_pooling2d_12 (MaxPooling (None, 5, 5, 64)          0         \n",
      "_________________________________________________________________\n",
      "conv2d_18 (Conv2D)           (None, 3, 3, 64)          36928     \n",
      "_________________________________________________________________\n",
      "flatten_5 (Flatten)          (None, 576)               0         \n",
      "_________________________________________________________________\n",
      "dense_44 (Dense)             (None, 64)                36928     \n",
      "_________________________________________________________________\n",
      "dense_45 (Dense)             (None, 10)                650       \n",
      "=================================================================\n",
      "Total params: 93,322\n",
      "Trainable params: 93,322\n",
      "Non-trainable params: 0\n",
      "_________________________________________________________________\n"
     ]
    }
   ],
   "source": [
    "cnn.summary()"
   ]
  },
  {
   "cell_type": "code",
   "execution_count": 198,
   "metadata": {
    "collapsed": true
   },
   "outputs": [],
   "source": [
    "opt = RMSprop()\n",
    "loss='categorical_crossentropy'\n",
    "metrics = ['accuracy']\n",
    "cnn.compile(optimizer=opt, loss=loss, metrics=metrics)"
   ]
  },
  {
   "cell_type": "code",
   "execution_count": 199,
   "metadata": {},
   "outputs": [
    {
     "name": "stdout",
     "output_type": "stream",
     "text": [
      "Epoch 1/5\n",
      "60000/60000 [==============================] - 29s 483us/step - loss: 0.1725 - acc: 0.9453\n",
      "Epoch 2/5\n",
      "60000/60000 [==============================] - 30s 504us/step - loss: 0.0484 - acc: 0.9849\n",
      "Epoch 3/5\n",
      "60000/60000 [==============================] - 29s 490us/step - loss: 0.0336 - acc: 0.9896\n",
      "Epoch 4/5\n",
      "60000/60000 [==============================] - 30s 507us/step - loss: 0.0245 - acc: 0.9926\n",
      "Epoch 5/5\n",
      "60000/60000 [==============================] - 30s 499us/step - loss: 0.0194 - acc: 0.9940\n"
     ]
    }
   ],
   "source": [
    "cnn_hist = cnn.fit(x_train, y_train, epochs=5, verbose=1, batch_size=64)"
   ]
  },
  {
   "cell_type": "code",
   "execution_count": 200,
   "metadata": {},
   "outputs": [
    {
     "name": "stdout",
     "output_type": "stream",
     "text": [
      "10000/10000 [==============================] - 2s 184us/step\n"
     ]
    },
    {
     "data": {
      "text/plain": [
       "[0.028136635534705783, 0.99170000000000003]"
      ]
     },
     "execution_count": 200,
     "metadata": {},
     "output_type": "execute_result"
    }
   ],
   "source": [
    "cnn.evaluate(x_test, y_test)"
   ]
  },
  {
   "cell_type": "markdown",
   "metadata": {},
   "source": [
    "# Data augmentation on the \"dogscats\" dataset"
   ]
  },
  {
   "cell_type": "code",
   "execution_count": 1,
   "metadata": {},
   "outputs": [
    {
     "name": "stderr",
     "output_type": "stream",
     "text": [
      "Using TensorFlow backend.\n"
     ]
    }
   ],
   "source": [
    "from keras.preprocessing.image import ImageDataGenerator, array_to_img, img_to_array, load_img"
   ]
  },
  {
   "cell_type": "code",
   "execution_count": 2,
   "metadata": {
    "collapsed": true
   },
   "outputs": [],
   "source": [
    "datagen = ImageDataGenerator(\n",
    "    rotation_range=40,\n",
    "    width_shift_range=0.2,\n",
    "    height_shift_range=0.2,\n",
    "    rescale=1./255,\n",
    "    shear_range=0.2,\n",
    "    zoom_range=0.2,\n",
    "    horizontal_flip=True,\n",
    "    fill_mode='nearest'\n",
    ")"
   ]
  },
  {
   "cell_type": "code",
   "execution_count": 5,
   "metadata": {
    "collapsed": true
   },
   "outputs": [],
   "source": [
    "img = load_img('keras/data/samples/cat.0.jpg')  # this is a PIL image\n",
    "x = img_to_array(img)  # this is a Numpy array with shape (3, 150, 150)\n",
    "x = x.reshape((1,) + x.shape)  # this is a Numpy array with shape (1, 3, 150, 150)\n",
    "\n",
    "# the .flow() command below generates batches of randomly transformed images\n",
    "# and saves the results to the `preview/` directory\n",
    "i = 0\n",
    "for batch in datagen.flow(x, batch_size=1,\n",
    "                          save_to_dir='preview', \n",
    "                          save_prefix='cat', \n",
    "                          save_format='jpeg'):\n",
    "    i += 1\n",
    "    if i > 20: break  # otherwise the generator would loop indefinitely"
   ]
  },
  {
   "cell_type": "code",
   "execution_count": 59,
   "metadata": {},
   "outputs": [
    {
     "data": {
      "text/plain": [
       "(11493, 11500)"
      ]
     },
     "execution_count": 59,
     "metadata": {},
     "output_type": "execute_result"
    }
   ],
   "source": [
    "import glob, shutil\n",
    "cat_files = glob.glob('keras/data/train/cat.*.jpg', recursive=True)\n",
    "dog_files = glob.glob('keras/data/train/dog.*.jpg', recursive=True)\n",
    "len(cat_files), len(dog_files)"
   ]
  },
  {
   "cell_type": "code",
   "execution_count": 60,
   "metadata": {
    "collapsed": true
   },
   "outputs": [],
   "source": [
    "import numpy as np\n",
    "# Sample 500 from each class and later move to validation folder\n",
    "cat_files_random = np.random.choice(cat_files, size=500, replace=False)\n",
    "dog_files_random = np.random.choice(dog_files, size=500, replace=False)"
   ]
  },
  {
   "cell_type": "code",
   "execution_count": 61,
   "metadata": {
    "collapsed": true
   },
   "outputs": [],
   "source": [
    "# Move files!\n",
    "\n",
    "cat_destination = \"keras/data/validation/cats/\"\n",
    "for filename in cat_files_random:\n",
    "    shutil.move(filename, cat_destination)\n",
    "    \n",
    "dog_destination = \"keras/data/validation/dogs/\" \n",
    "for filename in dog_files_random:\n",
    "    shutil.move(filename, dog_destination)"
   ]
  },
  {
   "cell_type": "markdown",
   "metadata": {},
   "source": [
    "## Define CNN model"
   ]
  },
  {
   "cell_type": "code",
   "execution_count": 3,
   "metadata": {
    "collapsed": true
   },
   "outputs": [],
   "source": [
    "from keras.models import Sequential\n",
    "from keras.layers import Conv2D, MaxPooling2D\n",
    "from keras.layers import Activation, Dropout, Flatten, Dense"
   ]
  },
  {
   "cell_type": "code",
   "execution_count": 4,
   "metadata": {
    "collapsed": true
   },
   "outputs": [],
   "source": [
    "model = Sequential()\n",
    "model.add(Conv2D(32, (3, 3), input_shape=(150, 150, 3)))\n",
    "model.add(Activation('relu'))\n",
    "model.add(MaxPooling2D(pool_size=(2, 2)))\n",
    "\n",
    "model.add(Conv2D(32, (3, 3)))\n",
    "model.add(Activation('relu'))\n",
    "model.add(MaxPooling2D(pool_size=(2, 2)))\n",
    "\n",
    "model.add(Conv2D(64, (3, 3)))\n",
    "model.add(Activation('relu'))\n",
    "model.add(MaxPooling2D(pool_size=(2, 2)))\n",
    "\n",
    "model.add(Flatten())  # this converts our 3D feature maps to 1D feature vectors\n",
    "model.add(Dense(64))\n",
    "model.add(Activation('relu'))\n",
    "model.add(Dropout(0.5))\n",
    "model.add(Dense(1))\n",
    "model.add(Activation('sigmoid'))\n",
    "\n",
    "model.compile(loss='binary_crossentropy',\n",
    "              optimizer='rmsprop',\n",
    "              metrics=['accuracy'])"
   ]
  },
  {
   "cell_type": "code",
   "execution_count": 5,
   "metadata": {
    "collapsed": true
   },
   "outputs": [],
   "source": [
    "batch_size = 16"
   ]
  },
  {
   "cell_type": "code",
   "execution_count": 6,
   "metadata": {
    "collapsed": true
   },
   "outputs": [],
   "source": [
    "# this is the augmentation configuration we will use for training\n",
    "train_datagen = ImageDataGenerator(\n",
    "        rescale=1./255,\n",
    "        shear_range=0.2,\n",
    "        zoom_range=0.2,\n",
    "        horizontal_flip=True)\n",
    "\n",
    "# this is the augmentation configuration we will use for testing:\n",
    "# only rescaling\n",
    "test_datagen = ImageDataGenerator(rescale=1./255)"
   ]
  },
  {
   "cell_type": "code",
   "execution_count": 7,
   "metadata": {},
   "outputs": [
    {
     "name": "stdout",
     "output_type": "stream",
     "text": [
      "Found 2000 images belonging to 2 classes.\n",
      "Found 1000 images belonging to 2 classes.\n"
     ]
    }
   ],
   "source": [
    "# this is a generator that will read pictures found in\n",
    "# subfolers of 'data/train', and indefinitely generate\n",
    "# batches of augmented image data\n",
    "train_generator = train_datagen.flow_from_directory(\n",
    "        'keras/data/train',  # this is the target directory\n",
    "        target_size=(150, 150),  # all images will be resized to 150x150\n",
    "        batch_size=batch_size,\n",
    "        class_mode='binary')  # since we use binary_crossentropy loss, we need binary labels\n",
    "\n",
    "# this is a similar generator, for validation data\n",
    "validation_generator = test_datagen.flow_from_directory(\n",
    "        'keras/data/validation',\n",
    "        target_size=(150, 150),\n",
    "        batch_size=batch_size,\n",
    "        class_mode='binary')"
   ]
  },
  {
   "cell_type": "code",
   "execution_count": 8,
   "metadata": {},
   "outputs": [
    {
     "name": "stdout",
     "output_type": "stream",
     "text": [
      "Epoch 1/5\n",
      "125/125 [==============================] - 49s 390ms/step - loss: 0.7476 - acc: 0.5180 - val_loss: 0.6760 - val_acc: 0.6338\n",
      "Epoch 2/5\n",
      "125/125 [==============================] - 48s 383ms/step - loss: 0.6811 - acc: 0.5690 - val_loss: 0.6543 - val_acc: 0.5850\n",
      "Epoch 3/5\n",
      "125/125 [==============================] - 48s 382ms/step - loss: 0.6581 - acc: 0.6155 - val_loss: 0.6099 - val_acc: 0.6637\n",
      "Epoch 4/5\n",
      "125/125 [==============================] - 47s 373ms/step - loss: 0.6434 - acc: 0.6600 - val_loss: 0.6218 - val_acc: 0.6675\n",
      "Epoch 5/5\n",
      "125/125 [==============================] - 47s 373ms/step - loss: 0.6193 - acc: 0.6745 - val_loss: 0.7292 - val_acc: 0.6525\n"
     ]
    },
    {
     "data": {
      "text/plain": [
       "<keras.callbacks.History at 0x1d3c6630>"
      ]
     },
     "execution_count": 8,
     "metadata": {},
     "output_type": "execute_result"
    }
   ],
   "source": [
    "model.fit_generator(\n",
    "        train_generator,\n",
    "        steps_per_epoch=2000 // batch_size,\n",
    "        epochs=5,\n",
    "        validation_data=validation_generator,\n",
    "        validation_steps=1000 // batch_size)"
   ]
  },
  {
   "cell_type": "code",
   "execution_count": 9,
   "metadata": {
    "collapsed": true
   },
   "outputs": [],
   "source": [
    "model.save_weights('keras/first_try.h5')"
   ]
  }
 ],
 "metadata": {
  "kernelspec": {
   "display_name": "Python 3",
   "language": "python",
   "name": "python3"
  },
  "language_info": {
   "codemirror_mode": {
    "name": "ipython",
    "version": 3
   },
   "file_extension": ".py",
   "mimetype": "text/x-python",
   "name": "python",
   "nbconvert_exporter": "python",
   "pygments_lexer": "ipython3",
   "version": "3.5.3"
  }
 },
 "nbformat": 4,
 "nbformat_minor": 2
}
